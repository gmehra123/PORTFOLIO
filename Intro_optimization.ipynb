{
  "nbformat": 4,
  "nbformat_minor": 0,
  "metadata": {
    "colab": {
      "provenance": [],
      "authorship_tag": "ABX9TyNmV+VpPvQ2nQ7E8OhEACOq",
      "include_colab_link": true
    },
    "kernelspec": {
      "name": "python3",
      "display_name": "Python 3"
    },
    "language_info": {
      "name": "python"
    }
  },
  "cells": [
    {
      "cell_type": "markdown",
      "metadata": {
        "id": "view-in-github",
        "colab_type": "text"
      },
      "source": [
        "<a href=\"https://colab.research.google.com/github/gmehra123/PORTFOLIO/blob/main/Intro_optimization.ipynb\" target=\"_parent\"><img src=\"https://colab.research.google.com/assets/colab-badge.svg\" alt=\"Open In Colab\"/></a>"
      ]
    },
    {
      "cell_type": "markdown",
      "source": [
        "# Intro to Optimization"
      ],
      "metadata": {
        "id": "ET2D3PWTc9fn"
      }
    },
    {
      "cell_type": "code",
      "execution_count": null,
      "metadata": {
        "id": "SmSscYlgcnji"
      },
      "outputs": [],
      "source": [
        "import pandas as pd\n",
        "import numpy as np\n",
        "from sympy import symbols,diff,solve"
      ]
    },
    {
      "cell_type": "markdown",
      "source": [
        "### Univariate optimization\n",
        "* The slope is the rate of change of the function (rule that maps inputs onto outputs)\n",
        "* If the dependent variable only depends on one independent variable then its called **univariate** function\n",
        "* The first derivative gives us the slope or rate of change of the y wrt x, denoted as dy/dx\n",
        "* In the below equation it will be dp_dq\n",
        "* whenever the derivative = 0 we are at a critical point. Critical points are ideal points for finding maxima or minima\n",
        "* If the function is concave then the crtical point is some sort of **maxima**\n",
        "* If the function is convex then the critical point is some sort of **minima**\n",
        "* A second derivative above 0 indicates a **minima**\n",
        "* A second derivative below 0 indicates a **maxima**"
      ],
      "metadata": {
        "id": "74oVL0GXdGvj"
      }
    },
    {
      "cell_type": "code",
      "source": [
        "# Finding the firs derivative using sympy\n",
        "q = symbols('q')\n",
        "P = 40*q - 0.5*q**2\n",
        "dp_dq = diff(P)\n",
        "print(f\"The drivative is: {dp_dq}\")\n",
        "q_opt = solve(dp_dq)[0]\n",
        "print(f\"The ideal quantity is {q_opt}\")\n",
        "d2p_d2q = diff(dp_dq)\n",
        "print(f\"the second derivative is {d2p_d2q}\")\n",
        "sol = d2p_d2q.subs('q',q_opt)"
      ],
      "metadata": {
        "colab": {
          "base_uri": "https://localhost:8080/"
        },
        "id": "U-wkwyrbcr8K",
        "outputId": "7ce39e96-54ba-4de9-cc62-6c4de403ddc3"
      },
      "execution_count": null,
      "outputs": [
        {
          "output_type": "stream",
          "name": "stdout",
          "text": [
            "The drivative is: 40 - 1.0*q\n",
            "The ideal quantity is 40.0000000000000\n",
            "the second derivative is -1.00000000000000\n"
          ]
        }
      ]
    },
    {
      "cell_type": "markdown",
      "source": [
        "### Multivariate Optimization\n",
        "* If the dependent variable is dependent on more than 1 dependent variable it is multivariate optimization\n",
        "* In the case of multivariate optimization we need to find the partial derivatives. Partial derivatives tell us how the slope of the function chnages wrt to each independent variable\n",
        "* Some kinds of optimization problems cannot be solved through diffrentiation\n",
        "  * Discontinous functions which are not differentiable\n",
        "  * Any functions that are increasing or decreasing indefinetely without clear maxima or minima\n",
        "  "
      ],
      "metadata": {
        "id": "4Jq8UMgfjQ7P"
      }
    },
    {
      "cell_type": "code",
      "source": [
        "# Multivariate optimization\n",
        "K,L = symbols('K L')\n",
        "F = -3*K**2 + 100* K - (1/2)*L**2 + 100*L\n",
        "dF_dK = diff(F,K)\n",
        "dF_dL = diff(F,L)\n",
        "crit_points = solve([dF_dK,dF_dL],(K,L))\n",
        "print(crit_points)\n",
        "K_val = crit_points[K]\n",
        "L_val = crit_points[L]\n",
        "sol = F.subs({K:K_val,L:L_val})\n",
        "print(sol)"
      ],
      "metadata": {
        "colab": {
          "base_uri": "https://localhost:8080/"
        },
        "id": "AcepFAiajOWp",
        "outputId": "c0fab0fc-424e-439d-ce70-b5550fbe1c45"
      },
      "execution_count": null,
      "outputs": [
        {
          "output_type": "stream",
          "name": "stdout",
          "text": [
            "{K: 16.6666666666667, L: 100.000000000000}\n",
            "5833.33333333333\n"
          ]
        }
      ]
    },
    {
      "cell_type": "code",
      "source": [
        "!pip install scipy"
      ],
      "metadata": {
        "colab": {
          "base_uri": "https://localhost:8080/"
        },
        "id": "om39d7O6Zw8E",
        "outputId": "be96d904-a2e1-4c0d-ecee-633db5ce960c"
      },
      "execution_count": null,
      "outputs": [
        {
          "output_type": "stream",
          "name": "stdout",
          "text": [
            "Requirement already satisfied: scipy in /usr/local/lib/python3.10/dist-packages (1.13.1)\n",
            "Requirement already satisfied: numpy<2.3,>=1.22.4 in /usr/local/lib/python3.10/dist-packages (from scipy) (1.26.4)\n"
          ]
        }
      ]
    },
    {
      "cell_type": "code",
      "source": [
        "# Unconstrained optimization using scipy\n",
        "from scipy.optimize import minimize_scalar\n",
        "def objective_function(x):\n",
        "  return x**2-9*x+3\n",
        "\n",
        "result = minimize_scalar(objective_function)\n",
        "print(result)"
      ],
      "metadata": {
        "id": "jCP4nQ7uiydg",
        "colab": {
          "base_uri": "https://localhost:8080/"
        },
        "outputId": "b3f48b0c-0245-4510-f811-9a0a89cab60b"
      },
      "execution_count": null,
      "outputs": [
        {
          "output_type": "stream",
          "name": "stdout",
          "text": [
            " message: \n",
            "          Optimization terminated successfully;\n",
            "          The returned value satisfies the termination criteria\n",
            "          (using xtol = 1.48e-08 )\n",
            " success: True\n",
            "     fun: -17.249999999999996\n",
            "       x: 4.500000000000002\n",
            "     nit: 4\n",
            "    nfev: 9\n"
          ]
        }
      ]
    },
    {
      "cell_type": "code",
      "source": [
        "# Now using a function of 2 variables\n",
        "from scipy.optimize import minimize\n",
        "def objective_function(a):\n",
        "  return ((a[0]-2)**2 + (a[1]-3)**2)\n",
        "\n",
        "result = minimize(objective_function,[1,2])\n",
        "print(result.x)\n"
      ],
      "metadata": {
        "colab": {
          "base_uri": "https://localhost:8080/"
        },
        "id": "KuJDubzQa4DX",
        "outputId": "21a9d3db-277e-4071-f5bc-5a29bc371864"
      },
      "execution_count": null,
      "outputs": [
        {
          "output_type": "stream",
          "name": "stdout",
          "text": [
            "[1.99999999 2.99999999]\n"
          ]
        }
      ]
    },
    {
      "cell_type": "code",
      "source": [
        "x = symbols('x')\n",
        "Y = x**2-9*x+3\n",
        "dy_dx = diff(Y)\n",
        "print(f\"dy_dx is {dy_dx}\")\n"
      ],
      "metadata": {
        "colab": {
          "base_uri": "https://localhost:8080/"
        },
        "id": "mcYSLBwpaG7P",
        "outputId": "f1575657-1228-4658-e2ca-38ce13b0040c"
      },
      "execution_count": null,
      "outputs": [
        {
          "output_type": "stream",
          "name": "stdout",
          "text": [
            "dy_dx is 2*x - 9\n"
          ]
        }
      ]
    },
    {
      "cell_type": "markdown",
      "source": [
        "### Bound constrained optimization\n",
        "* In bound constrained problems the input variables are bound in some way.\n",
        "* They might have upper and lower bounds\n",
        "* lets look at a biscuit factory that produces vanilla and choclate biscuits. b[0] is vanilla b[1] is chocolate\n",
        "  * b[0] between 5 and 25\n",
        "  * b[1] between 10 and 30"
      ],
      "metadata": {
        "id": "lpZZMF5Og8u4"
      }
    },
    {
      "cell_type": "code",
      "source": [
        "# Now introducing bounds on the variables\n",
        "from scipy.optimize import minimize,Bounds\n",
        "def objective_function(b):\n",
        "  return (2*b[0] - 1.5*b[1])\n",
        "\n",
        "bounds = Bounds([5,10],[25,30])\n",
        "x0 = [5,8]\n",
        "\n",
        "result = minimize(objective_function,x0,bounds=bounds,method='L-BFGS-B')\n",
        "print(result.x[0],result.x[1])"
      ],
      "metadata": {
        "colab": {
          "base_uri": "https://localhost:8080/"
        },
        "id": "ENSn08tTg1WI",
        "outputId": "9ecb3fe7-c997-4d4e-8479-a85d23c8f90f"
      },
      "execution_count": null,
      "outputs": [
        {
          "output_type": "stream",
          "name": "stdout",
          "text": [
            "5.0 30.0\n"
          ]
        }
      ]
    },
    {
      "cell_type": "code",
      "source": [
        "# Now adding a Linear constraint\n",
        "def objective_function(b):\n",
        "  return (b[0] - 5) ** 2 + (b[1] - 3) ** 3\n",
        "\n",
        "def constraint_function(x):\n",
        "    return 2*x[0] + 3*x[1] - 6\n",
        "\n",
        "# Set the constraint variable\n",
        "constraint = {'type':'ineq','fun':constraint_function}\n",
        "\n",
        "x0 = [20, 20]\n",
        "\n",
        "# Find the minimum\n",
        "result = minimize(objective_function,x0,constraints=[constraint])\n",
        "\n",
        "print(result)"
      ],
      "metadata": {
        "colab": {
          "base_uri": "https://localhost:8080/"
        },
        "id": "G4OZ-893luCa",
        "outputId": "671e1307-ab84-4079-b44c-280abb1fc096"
      },
      "execution_count": null,
      "outputs": [
        {
          "output_type": "stream",
          "name": "stdout",
          "text": [
            " message: Inequality constraints incompatible\n",
            " success: False\n",
            "  status: 4\n",
            "     fun: -5596424370440672.0\n",
            "       x: [ 2.665e+05 -1.775e+05]\n",
            "     nit: 3\n",
            "     jac: [ 0.000e+00  9.456e+10]\n",
            "    nfev: 9\n",
            "    njev: 3\n"
          ]
        }
      ]
    },
    {
      "cell_type": "markdown",
      "source": [
        "### Pulp Problem\n",
        "\n",
        "PuLP for linear optimization\n",
        "A farmer faces a diet problem for their cattle. The vet's recommendation is that each animal is fed at least 7 pounds of a mix of corn and soybean with at least 17% protein and 2% fat. Below are the relevant nutritional elements:\n",
        "\n",
        "|Food type|Cost ($/lb)|Protein (%)|Fat (%)|\n",
        "|---------|-----------|-----------|-------|\n",
        "|corn     |\t0.11      |\t10        |\t2.5   |\n",
        "|soybean  |\t0.28      |\t40        |1      |\n",
        "\n",
        "You will use this information to minimize costs subject to nutritional constraints.\n",
        "\n",
        "pulp has been imported for you."
      ],
      "metadata": {
        "id": "Vgjc_Z5UrKPI"
      }
    },
    {
      "cell_type": "code",
      "source": [
        "!pip install pulp"
      ],
      "metadata": {
        "colab": {
          "base_uri": "https://localhost:8080/"
        },
        "id": "b12zZSD1ij8m",
        "outputId": "d0d9a599-aac8-48cb-b947-c9018889f916"
      },
      "execution_count": null,
      "outputs": [
        {
          "output_type": "stream",
          "name": "stdout",
          "text": [
            "Collecting pulp\n",
            "  Downloading PuLP-2.9.0-py3-none-any.whl.metadata (5.4 kB)\n",
            "Downloading PuLP-2.9.0-py3-none-any.whl (17.7 MB)\n",
            "\u001b[2K   \u001b[90m━━━━━━━━━━━━━━━━━━━━━━━━━━━━━━━━━━━━━━━━\u001b[0m \u001b[32m17.7/17.7 MB\u001b[0m \u001b[31m32.2 MB/s\u001b[0m eta \u001b[36m0:00:00\u001b[0m\n",
            "\u001b[?25hInstalling collected packages: pulp\n",
            "Successfully installed pulp-2.9.0\n"
          ]
        }
      ]
    },
    {
      "cell_type": "markdown",
      "source": [
        "#### Simple solution for LP problem using pulp"
      ],
      "metadata": {
        "id": "Nfp-7bR6sWlv"
      }
    },
    {
      "cell_type": "code",
      "source": [
        "from pulp import *"
      ],
      "metadata": {
        "id": "X06Unuo0rHnl"
      },
      "execution_count": null,
      "outputs": []
    },
    {
      "cell_type": "code",
      "source": [
        "# Now setting up the model in pulp\n",
        "model = LpProblem('Minimize_Cost',LpMinimize)"
      ],
      "metadata": {
        "id": "p2QgUT37i2NA"
      },
      "execution_count": null,
      "outputs": []
    },
    {
      "cell_type": "code",
      "source": [
        "# Define variable\n",
        "C = LpVariable('C',lowBound=0)\n",
        "S = LpVariable('S',lowBound=0)"
      ],
      "metadata": {
        "id": "H668pLP6kbcr"
      },
      "execution_count": null,
      "outputs": []
    },
    {
      "cell_type": "code",
      "source": [
        "model += 0.11*C + 0.28*S\n",
        "model += 40*S + 10*C >= 17*(C+S)\n",
        "model += 2.5*C + 1*S >= 2*(C+S)\n",
        "model += C+S>=7"
      ],
      "metadata": {
        "id": "lfHnTDubksvZ"
      },
      "execution_count": null,
      "outputs": []
    },
    {
      "cell_type": "code",
      "source": [
        "model"
      ],
      "metadata": {
        "colab": {
          "base_uri": "https://localhost:8080/"
        },
        "id": "QR_LWPfImdf9",
        "outputId": "97a42a3f-26e0-4ca7-8242-524172aa7d23"
      },
      "execution_count": null,
      "outputs": [
        {
          "output_type": "execute_result",
          "data": {
            "text/plain": [
              "Minimize_Cost:\n",
              "MINIMIZE\n",
              "0.11*C + 0.28*S + 0.0\n",
              "SUBJECT TO\n",
              "_C1: - 7 C + 23 S >= 0\n",
              "\n",
              "_C2: 0.5 C - S >= 0\n",
              "\n",
              "_C3: C + S >= 7\n",
              "\n",
              "VARIABLES\n",
              "C Continuous\n",
              "S Continuous"
            ]
          },
          "metadata": {},
          "execution_count": 14
        }
      ]
    },
    {
      "cell_type": "code",
      "source": [
        "print(f\"model is solved {model.solve()}\")\n",
        "print(f\"minimized cost is {value(model.objective)}\")\n",
        "for v in model.variables():\n",
        "  print(v,v.varValue)"
      ],
      "metadata": {
        "colab": {
          "base_uri": "https://localhost:8080/"
        },
        "id": "p6iyxCNtmosi",
        "outputId": "fecda383-5ebd-473d-e24d-9d6e0a7a4743"
      },
      "execution_count": null,
      "outputs": [
        {
          "output_type": "stream",
          "name": "stdout",
          "text": [
            "model is solved 1\n",
            "minimized cost is 1.047666661\n",
            "C 5.3666667\n",
            "S 1.6333333\n"
          ]
        }
      ]
    },
    {
      "cell_type": "markdown",
      "source": [
        "##### Problem 2\n",
        "Resourcing Problem\n",
        "We’re consulting for a boutique car manufacturer, producing luxury cars.\n",
        "\n",
        "They run on one month (30 days) cycles, we have one cycle to show we can provide value.\n",
        "\n",
        "There is one robot, 2 engineers and one detailer in the factory. The detailer has some holiday off, so only has 21 days available.\n",
        "\n",
        "The 2 cars need different time with each resource:\n",
        "\n",
        "Robot time: Car A – 3 days; Car B – 4 days.\n",
        "\n",
        "Engineer time: Car A – 5 days; Car B – 6 days.\n",
        "\n",
        "Detailer time: Car A – 1.5 days; Car B – 3 days.\n",
        "\n",
        "Car A provides €30,000 profit, whilst Car B offers €45,000 profit.\n",
        "\n",
        "At the moment, they produce 4 of each cars per month, for €300,000 profit. Not bad at all, but we think we can do better for them."
      ],
      "metadata": {
        "id": "JfWA-yLpRGOr"
      }
    },
    {
      "cell_type": "code",
      "source": [
        "products = ['Car_A','Car_B']\n",
        "profits = [30000,45000]\n",
        "model = LpProblem('Maximize_profit',LpMaximize)"
      ],
      "metadata": {
        "id": "Y30PwDzynvZu"
      },
      "execution_count": null,
      "outputs": []
    },
    {
      "cell_type": "code",
      "source": [
        "vars = LpVariable.dicts('Product_type',[i for i in products],lowBound=0,cat='Integer')"
      ],
      "metadata": {
        "id": "twteEz5oRiL3"
      },
      "execution_count": null,
      "outputs": []
    },
    {
      "cell_type": "code",
      "source": [
        "model += vars['Car_A']*30000 + vars['Car_B']*45000"
      ],
      "metadata": {
        "id": "jV0nEjqWUIHi"
      },
      "execution_count": null,
      "outputs": []
    },
    {
      "cell_type": "code",
      "source": [
        "# Constarints\n",
        "model += 3*vars['Car_A'] + 4*vars['Car_B']<=30\n",
        "model += 5*vars['Car_A'] + 6*vars['Car_B']<=60\n",
        "model += 1.5*vars['Car_A'] + 3*vars['Car_B']<=21"
      ],
      "metadata": {
        "id": "XF9hlfp6UgHH"
      },
      "execution_count": null,
      "outputs": []
    },
    {
      "cell_type": "code",
      "source": [
        "model"
      ],
      "metadata": {
        "colab": {
          "base_uri": "https://localhost:8080/"
        },
        "id": "ToOh4LxIVWKm",
        "outputId": "5eb48446-7b13-4551-bf3f-bd1b7c557373"
      },
      "execution_count": null,
      "outputs": [
        {
          "output_type": "execute_result",
          "data": {
            "text/plain": [
              "Maximize_profit:\n",
              "MAXIMIZE\n",
              "30000*Product_type_Car_A + 45000*Product_type_Car_B + 0\n",
              "SUBJECT TO\n",
              "_C1: 3 Product_type_Car_A + 4 Product_type_Car_B <= 30\n",
              "\n",
              "_C2: 5 Product_type_Car_A + 6 Product_type_Car_B <= 60\n",
              "\n",
              "_C3: 1.5 Product_type_Car_A + 3 Product_type_Car_B <= 21\n",
              "\n",
              "VARIABLES\n",
              "0 <= Product_type_Car_A Integer\n",
              "0 <= Product_type_Car_B Integer"
            ]
          },
          "metadata": {},
          "execution_count": 20
        }
      ]
    },
    {
      "cell_type": "code",
      "source": [
        "model.solve()"
      ],
      "metadata": {
        "colab": {
          "base_uri": "https://localhost:8080/"
        },
        "id": "JdySt5a8VtNA",
        "outputId": "f3ee57b1-0437-417a-8508-a14352194dfd"
      },
      "execution_count": null,
      "outputs": [
        {
          "output_type": "execute_result",
          "data": {
            "text/plain": [
              "1"
            ]
          },
          "metadata": {},
          "execution_count": 21
        }
      ]
    },
    {
      "cell_type": "code",
      "source": [
        "print(f\"Optimal value is {value(model.objective)}\")\n",
        "print(f\"model A production is {model.variables()[0].varValue}\")\n",
        "print(f\"model B production is {model.variables()[1].varValue}\")"
      ],
      "metadata": {
        "colab": {
          "base_uri": "https://localhost:8080/"
        },
        "id": "QEUGlyBTVyYO",
        "outputId": "c50f98f9-f0be-4260-a3e7-ba57dc0095fe"
      },
      "execution_count": null,
      "outputs": [
        {
          "output_type": "stream",
          "name": "stdout",
          "text": [
            "Optimal value is 330000.0\n",
            "model A production is 2.0\n",
            "model B production is 6.0\n"
          ]
        }
      ]
    },
    {
      "cell_type": "markdown",
      "source": [
        "#### Problem 3\n",
        "Linear Programming with Python and PuLP – Part 4\n",
        "Post author:Ben Keen\n",
        "Post published:1st April 2016\n",
        "Post category:Python\n",
        "Linear Programming with Python and PuLP – Part 4\n",
        "Real world examples – Blending Problem\n",
        "We’re going to make some sausages!\n",
        "\n",
        "We have the following ingredients available to us:\n",
        "\n",
        "|Ingredient\tCost| (€/kg)\t|Availability (kg)|\n",
        "|---------------|---------| ----------------|\n",
        "|Pork\t          | 4.32\t  |     30          |\n",
        "|Wheat\t        | 2.46\t  |     20          |\n",
        "|Starch\t        | 1.86\t  |     17          |\n",
        "\n",
        "We’ll make 2 types of sausage:\n",
        "\n",
        "Economy (>40% Pork)\n",
        "Premium (>60% Pork)\n",
        "One sausage is 50 grams (0.05 kg)\n",
        "\n",
        "According to government regulations, the most starch we can use in our sausages is 25%\n",
        "\n",
        "We have a contract with a butcher, and have already purchased 23 kg pork, that must go in our sausages.\n",
        "\n",
        "We have a demand for 350 economy sausages and 500 premium sausages.\n",
        "\n",
        "We need to figure out how to most cost effectively blend our sausages."
      ],
      "metadata": {
        "id": "4AetBqZ4tJs1"
      }
    },
    {
      "cell_type": "code",
      "source": [
        "model =LpProblem('Minimize_cost', LpMinimize)"
      ],
      "metadata": {
        "id": "lYCLZzy-tRMW"
      },
      "execution_count": null,
      "outputs": []
    },
    {
      "cell_type": "code",
      "source": [
        "materials = ['pork','wheat','starch']\n",
        "seg = ['eco','premium']"
      ],
      "metadata": {
        "id": "nugBx9Zcz8o6"
      },
      "execution_count": null,
      "outputs": []
    },
    {
      "cell_type": "code",
      "source": [
        "var = LpVariable.dicts(name='type',indices=[(i,j) for i in materials for j in seg],lowBound=0,cat='Continuous')"
      ],
      "metadata": {
        "id": "l9CSBrAgz8yg"
      },
      "execution_count": null,
      "outputs": []
    },
    {
      "cell_type": "code",
      "source": [
        "var"
      ],
      "metadata": {
        "colab": {
          "base_uri": "https://localhost:8080/"
        },
        "id": "EyeiCg7r3r3T",
        "outputId": "a860c344-614e-4677-96c0-fa4002bbf24a"
      },
      "execution_count": null,
      "outputs": [
        {
          "output_type": "execute_result",
          "data": {
            "text/plain": [
              "{('pork', 'eco'): type_('pork',_'eco'),\n",
              " ('pork', 'premium'): type_('pork',_'premium'),\n",
              " ('wheat', 'eco'): type_('wheat',_'eco'),\n",
              " ('wheat', 'premium'): type_('wheat',_'premium'),\n",
              " ('starch', 'eco'): type_('starch',_'eco'),\n",
              " ('starch', 'premium'): type_('starch',_'premium')}"
            ]
          },
          "metadata": {},
          "execution_count": 71
        }
      ]
    },
    {
      "cell_type": "code",
      "source": [
        "# Modelling the Objective function\n",
        "model += lpSum([4.32*var[('pork',i)] + 2.46*var[('wheat',i)] + 1.86*var[('starch',i)] for i in seg])"
      ],
      "metadata": {
        "id": "gykqljzp2bWz"
      },
      "execution_count": null,
      "outputs": []
    },
    {
      "cell_type": "code",
      "source": [
        "#Availability constraint\n",
        "model += lpSum([var[('pork',i)] for i in seg])<=30\n",
        "model += lpSum([var[('wheat',i)] for i in seg])<=20\n",
        "model += lpSum([var[('starch',i)] for i in seg])<=17"
      ],
      "metadata": {
        "id": "Qqgegsv34O_c"
      },
      "execution_count": null,
      "outputs": []
    },
    {
      "cell_type": "code",
      "source": [
        "#Deamand constraint\n",
        "model += lpSum([var[(j,'eco')] for j in materials]) == 350*0.05\n",
        "model += lpSum([var[(j,'premium')] for j in materials]) == 500*0.05"
      ],
      "metadata": {
        "id": "_rU2NZmm4PJg"
      },
      "execution_count": null,
      "outputs": []
    },
    {
      "cell_type": "code",
      "source": [
        "#Pork Mix constraint\n",
        "model += var[('pork','eco')]>= 0.4* lpSum([var[(i,'eco')] for i in materials])\n",
        "model += var[('pork','premium')]>= 0.6* lpSum([var[(i,'premium')] for i in materials])"
      ],
      "metadata": {
        "id": "xaUhSzH44PN3"
      },
      "execution_count": null,
      "outputs": []
    },
    {
      "cell_type": "code",
      "source": [
        "# Starch constraint\n",
        "model += var[('starch','premium')]<=0.25* lpSum([var[(i,'premium')] for i in materials])\n",
        "model += var[('starch','eco')]<=0.25* lpSum([var[(i,'eco')] for i in materials])"
      ],
      "metadata": {
        "id": "o2QJjtwdo_jL"
      },
      "execution_count": null,
      "outputs": []
    },
    {
      "cell_type": "code",
      "source": [
        "# At least 23 g of Pork\n",
        "model += lpSum([var[('pork',i)] for i in seg]) >= 23"
      ],
      "metadata": {
        "id": "nrHTUdXDqYVs"
      },
      "execution_count": null,
      "outputs": []
    },
    {
      "cell_type": "code",
      "source": [
        "model"
      ],
      "metadata": {
        "colab": {
          "base_uri": "https://localhost:8080/"
        },
        "id": "xk463TfYrpSS",
        "outputId": "a09fe0d9-c6c7-4e66-d208-3f6ace4ba037"
      },
      "execution_count": null,
      "outputs": [
        {
          "output_type": "execute_result",
          "data": {
            "text/plain": [
              "Minimize_cost:\n",
              "MINIMIZE\n",
              "4.32*type_('pork',_'eco') + 4.32*type_('pork',_'premium') + 1.86*type_('starch',_'eco') + 1.86*type_('starch',_'premium') + 2.46*type_('wheat',_'eco') + 2.46*type_('wheat',_'premium') + 0.0\n",
              "SUBJECT TO\n",
              "_C1: type_('pork',_'eco') + type_('pork',_'premium') <= 30\n",
              "\n",
              "_C2: type_('wheat',_'eco') + type_('wheat',_'premium') <= 20\n",
              "\n",
              "_C3: type_('starch',_'eco') + type_('starch',_'premium') <= 17\n",
              "\n",
              "_C4: type_('pork',_'eco') + type_('starch',_'eco') + type_('wheat',_'eco')\n",
              " = 17.5\n",
              "\n",
              "_C5: type_('pork',_'premium') + type_('starch',_'premium')\n",
              " + type_('wheat',_'premium') = 25\n",
              "\n",
              "_C6: 0.6 type_('pork',_'eco') - 0.4 type_('starch',_'eco')\n",
              " - 0.4 type_('wheat',_'eco') >= 0\n",
              "\n",
              "_C7: 0.4 type_('pork',_'premium') - 0.6 type_('starch',_'premium')\n",
              " - 0.6 type_('wheat',_'premium') >= 0\n",
              "\n",
              "_C8: - 0.25 type_('pork',_'premium') + 0.75 type_('starch',_'premium')\n",
              " - 0.25 type_('wheat',_'premium') <= 0\n",
              "\n",
              "_C9: - 0.25 type_('pork',_'eco') + 0.75 type_('starch',_'eco')\n",
              " - 0.25 type_('wheat',_'eco') <= 0\n",
              "\n",
              "_C10: type_('pork',_'eco') + type_('pork',_'premium') >= 23\n",
              "\n",
              "VARIABLES\n",
              "type_('pork',_'eco') Continuous\n",
              "type_('pork',_'premium') Continuous\n",
              "type_('starch',_'eco') Continuous\n",
              "type_('starch',_'premium') Continuous\n",
              "type_('wheat',_'eco') Continuous\n",
              "type_('wheat',_'premium') Continuous"
            ]
          },
          "metadata": {},
          "execution_count": 78
        }
      ]
    },
    {
      "cell_type": "code",
      "source": [
        "model.solve()\n",
        "LpStatus[model.status]"
      ],
      "metadata": {
        "colab": {
          "base_uri": "https://localhost:8080/",
          "height": 36
        },
        "id": "RFAPuPjQqaNY",
        "outputId": "1e4e0a0a-fb60-48b3-e658-491c2eb6329f"
      },
      "execution_count": null,
      "outputs": [
        {
          "output_type": "execute_result",
          "data": {
            "text/plain": [
              "'Optimal'"
            ],
            "application/vnd.google.colaboratory.intrinsic+json": {
              "type": "string"
            }
          },
          "metadata": {},
          "execution_count": 79
        }
      ]
    },
    {
      "cell_type": "code",
      "source": [
        "print(f\"Optimal cost is {value(model.objective)}\")\n",
        "\n",
        "for v in model.variables():\n",
        "  print(f\"{v} optimal value is {value(v)}\")"
      ],
      "metadata": {
        "colab": {
          "base_uri": "https://localhost:8080/"
        },
        "id": "S5bPmVDir7qK",
        "outputId": "9453266c-7ed0-4c2b-ba56-ce8750cd039e"
      },
      "execution_count": null,
      "outputs": [
        {
          "output_type": "stream",
          "name": "stdout",
          "text": [
            "Optimal cost is 140.955\n",
            "type_('pork',_'eco') optimal value is 7.0\n",
            "type_('pork',_'premium') optimal value is 16.0\n",
            "type_('starch',_'eco') optimal value is 4.375\n",
            "type_('starch',_'premium') optimal value is 6.25\n",
            "type_('wheat',_'eco') optimal value is 6.125\n",
            "type_('wheat',_'premium') optimal value is 2.75\n"
          ]
        }
      ]
    },
    {
      "cell_type": "markdown",
      "source": [
        "### Convex constrained Optimization"
      ],
      "metadata": {
        "id": "_BYGRB7ofGW_"
      }
    },
    {
      "cell_type": "code",
      "source": [
        "# Utility function to maximize\n",
        "import numpy\n",
        "import matplotlib.pyplot as plt\n",
        "w = np.linspace(1,100,30)\n",
        "l = np.linspace(1,100,30)\n",
        "W,L = np.meshgrid(w,l)\n",
        "U = (W**0.4) * (L**0.6)\n",
        "fig,ax = plt.subplots()\n",
        "contours=ax.contour(W,L,U,levels=[5,10,15,20])\n",
        "plt.clabel(contours)\n",
        "ax.set_title(\"Contour plot for U = (W**0.4) * (L**0.6)\")\n",
        "ax.set_xlabel(\"W\")\n",
        "ax.set_ylabel(\"L\")\n",
        "plt.show()"
      ],
      "metadata": {
        "colab": {
          "base_uri": "https://localhost:8080/",
          "height": 472
        },
        "id": "AG3WYk7pfU7h",
        "outputId": "d96d4950-da3a-49e7-deb6-fbac00764d13"
      },
      "execution_count": null,
      "outputs": [
        {
          "output_type": "display_data",
          "data": {
            "text/plain": [
              "<Figure size 640x480 with 1 Axes>"
            ],
            "image/png": "[encoded data removed]"
          },
          "metadata": {}
        }
      ]
    },
    {
      "cell_type": "code",
      "source": [
        "# Now lets do the optimization of this using scipy\n",
        "from scipy.optimize import minimize,Bounds\n",
        "def objective_function(vars):\n",
        "  w,l = vars\n",
        "  return -(w**0.4 * l**0.6)\n",
        "\n",
        "def constraint_func(vars):\n",
        "  return 24-np.sum(vars)"
      ],
      "metadata": {
        "id": "giqjzNhcfU_w"
      },
      "execution_count": null,
      "outputs": []
    },
    {
      "cell_type": "code",
      "source": [
        "initial_guess = [12,12]\n",
        "constraints = {'type':'eq','fun':constraint_func}\n",
        "result = minimize(objective_function,initial_guess,constraints=constraints)\n",
        "w,l = result.x"
      ],
      "metadata": {
        "id": "DEpD2luYn5f2"
      },
      "execution_count": null,
      "outputs": []
    },
    {
      "cell_type": "code",
      "source": [
        "print(f\"Optimal work hours is {w}\")\n",
        "print(f\"Optimal leisure hours is {l}\")"
      ],
      "metadata": {
        "colab": {
          "base_uri": "https://localhost:8080/"
        },
        "id": "CjgwWPNupIPf",
        "outputId": "d3682de6-0f3c-4c4f-bfad-2470224547cd"
      },
      "execution_count": null,
      "outputs": [
        {
          "output_type": "stream",
          "name": "stdout",
          "text": [
            "Optimal work hours is 9.600011217702765\n",
            "Optimal leisure hours is 14.399988782297235\n"
          ]
        }
      ]
    },
    {
      "cell_type": "markdown",
      "source": [
        "### Now using LinearConstraint"
      ],
      "metadata": {
        "id": "QbNpsPzhfT89"
      }
    },
    {
      "cell_type": "code",
      "source": [
        "from scipy.optimize import minimize,Bounds,LinearConstraint\n",
        "def objective_function(vars):\n",
        "  w,l = vars\n",
        "  return -(w**0.4 * l**0.6)"
      ],
      "metadata": {
        "id": "o1YRSHuH8CVU"
      },
      "execution_count": null,
      "outputs": []
    },
    {
      "cell_type": "code",
      "source": [
        "constraints = LinearConstraint([1,1],lb=0,ub=24)\n",
        "result = minimize(objective_function,initial_guess,constraints=constraints)"
      ],
      "metadata": {
        "id": "Uimiixzv8QLd"
      },
      "execution_count": null,
      "outputs": []
    },
    {
      "cell_type": "code",
      "source": [
        "w,l = result.x"
      ],
      "metadata": {
        "id": "EC-hDfm38ihv"
      },
      "execution_count": null,
      "outputs": []
    },
    {
      "cell_type": "code",
      "source": [
        "print(w,l)"
      ],
      "metadata": {
        "colab": {
          "base_uri": "https://localhost:8080/"
        },
        "id": "TWfDG6Dw8kwN",
        "outputId": "3d92d713-f59c-4b95-b284-859847439359"
      },
      "execution_count": null,
      "outputs": [
        {
          "output_type": "stream",
          "name": "stdout",
          "text": [
            "9.600013769841553 14.399986230158447\n"
          ]
        }
      ]
    },
    {
      "cell_type": "markdown",
      "source": [
        "### Non Linear optimization\n",
        "##### Problem\n",
        "* car maker produces cars in 2 plants A and B\n",
        "* Plant capacity is 90\n",
        "  * Qa<=90 and Qb<=90\n",
        "* Production cost is 3Q in plant A and 3.5Q in plant B.\n",
        "  * Total cost = 3Qa +3.5Qb\n",
        "* Price function is\n",
        "  * P = 120-Q\n",
        "  * P = 120-(Qa+Qb)\n",
        "* Minimum of 92 cars\n",
        "  * Q>=92\n",
        "  * Qa + Qb >=92\n",
        "* Pr = Revenue-Cost\n",
        "* R = [120-(Qa+Qb)]*(Qa+Qb)\n",
        "* C = 3Qa +3.5Qb"
      ],
      "metadata": {
        "id": "787YCAdaCegp"
      }
    },
    {
      "cell_type": "code",
      "source": [
        "from scipy.optimize import minimize,Bounds,LinearConstraint"
      ],
      "metadata": {
        "id": "-cIqguLEE8tq"
      },
      "execution_count": null,
      "outputs": []
    },
    {
      "cell_type": "code",
      "source": [
        "# Defining the Non Linear profit objective function\n",
        "def rev(vars):\n",
        "  qa,qb = vars\n",
        "  return ((120-(qa+qb))*(qa+qb))\n",
        "\n",
        "def cost(vars):\n",
        "  qa,qb = vars\n",
        "  return 3*qa + 3.5*qb\n",
        "\n",
        "def profit(vars):\n",
        "  qa,qb = vars\n",
        "  return rev(vars) - cost(vars)"
      ],
      "metadata": {
        "id": "mW284651FFHb"
      },
      "execution_count": null,
      "outputs": []
    },
    {
      "cell_type": "code",
      "source": [
        "# Defining constraints and bounds\n",
        "bounds = Bounds([0,0],[90,90])\n",
        "constraints = LinearConstraint([1,1],lb=92)\n",
        "result = minimize(lambda q: -profit(q),[50,50],bounds=bounds,constraints=constraints)"
      ],
      "metadata": {
        "id": "wZIPfHfuF_Sc"
      },
      "execution_count": null,
      "outputs": []
    },
    {
      "cell_type": "code",
      "source": [
        "print(result.message)\n",
        "print(f\"Max profit is {-result.fun:.2f}\")\n",
        "print(f\"Optimal A is {result.x[0]:.2f} ans Optimal B is {result.x[1]:.2f}\")"
      ],
      "metadata": {
        "colab": {
          "base_uri": "https://localhost:8080/"
        },
        "id": "YdsaLT8TImki",
        "outputId": "5bfbac12-8550-4d9c-b848-351d6dce28af"
      },
      "execution_count": null,
      "outputs": [
        {
          "output_type": "stream",
          "name": "stdout",
          "text": [
            "Optimization terminated successfully\n",
            "Max profit is 2299.00\n",
            "Optimal A is 90.00 ans Optimal B is 2.00\n"
          ]
        }
      ]
    }
  ]
}