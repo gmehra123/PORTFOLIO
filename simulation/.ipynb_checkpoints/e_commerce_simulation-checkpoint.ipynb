{
 "cells": [
  {
   "cell_type": "code",
   "execution_count": 3,
   "id": "e44cb9f0-46e6-4ac8-b436-3757657cc5d9",
   "metadata": {
    "tags": []
   },
   "outputs": [],
   "source": [
    "import pandas as pd\n",
    "import numpy as np\n",
    "import matplotlib.pyplot as plt"
   ]
  },
  {
   "cell_type": "code",
   "execution_count": 9,
   "id": "674ae11a-c1c9-46e6-bbe1-80d37fa95896",
   "metadata": {
    "tags": []
   },
   "outputs": [],
   "source": [
    "from __future__ import print_function\n",
    "from ipywidgets import interact, interactive, fixed, interact_manual\n",
    "import ipywidgets as widgets"
   ]
  },
  {
   "cell_type": "markdown",
   "id": "6fd83149-d0a0-415f-930d-61040745b1fe",
   "metadata": {
    "tags": []
   },
   "source": [
    "### Ecommerce flow\n",
    "![image](Block_Diagram_ecomm.png)\n",
    "<br>\n",
    " * The following diagram shows the typical funnel for an ecommerce website. We start with impressions of the website/web advertisement. This can be modelled as a **Poisson process** with the avg rate for the Poisson process set by a historical number of daily impressions.\n",
    "* Only some of the customers that see the ad or website **click through**. This is a **binomial process** with 2 possible outcomes click or no click. We can calculate the click through rate from history\n",
    "* Only some of the customers that click through **sign up**. We can define it similarly as a binomial process \n",
    "* Only some of the customers that sign up **purchase**. This too is a binomial process\n",
    "* The ticketsize or the average value of the orders can be modeled as a **normal distribution** since it is continous. We can also sample that from historical values using **bootstrap sampling**\n"
   ]
  },
  {
   "cell_type": "code",
   "execution_count": 60,
   "id": "4b859aa2-5e2d-4c20-b267-85a67ef1374f",
   "metadata": {
    "tags": []
   },
   "outputs": [],
   "source": [
    "def get_signups(avg_impressions,ctr,str_):\n",
    "    impressions = np.random.poisson(avg_impressions)\n",
    "    clicks = np.random.binomial(n=impressions,p=ctr)\n",
    "    signups = np.random.binomial(n=clicks,p=str_)\n",
    "    return(signups)"
   ]
  },
  {
   "cell_type": "code",
   "execution_count": 74,
   "id": "9b84623f-1e96-4eed-a904-cefa635ed1cc",
   "metadata": {
    "tags": []
   },
   "outputs": [],
   "source": [
    "def get_revenue(signups,pur_rate,avg_tkt,std_tkt):\n",
    "    purchases = np.random.binomial(n=signups,p=pur_rate)\n",
    "    purchase_vals = np.random.normal(avg_tkt,std_tkt,size=purchases)\n",
    "    revenue = np.sum(purchase_vals)\n",
    "    return(revenue)"
   ]
  },
  {
   "cell_type": "code",
   "execution_count": 84,
   "id": "0ff28e48-455f-41f3-9eb1-6d8fd218eab8",
   "metadata": {
    "tags": []
   },
   "outputs": [],
   "source": [
    "plt.style.use('fivethirtyeight')"
   ]
  },
  {
   "cell_type": "code",
   "execution_count": 86,
   "id": "2866a094-a471-4683-aeab-5028e4f893c3",
   "metadata": {
    "tags": []
   },
   "outputs": [
    {
     "data": {
      "application/vnd.jupyter.widget-view+json": {
       "model_id": "e412f6f07eae471ab5b9c381702b2086",
       "version_major": 2,
       "version_minor": 0
      },
      "text/plain": [
       "interactive(children=(Dropdown(description='avg_impressions', options=(100000, 120000, 150000), value=100000),…"
      ]
     },
     "metadata": {},
     "output_type": "display_data"
    }
   ],
   "source": [
    "@interact(avg_impressions=[100000,120000,150000],ctr=[0.01,0.025,0.05],str_=[0.1,0.15,0.2])\n",
    "def run_simulation(avg_impressions,ctr,str_,pur_rate=0.3,avg_tkt_size=100,std_dev_tkt=20):\n",
    "    rev_tot = []\n",
    "    for i in range(1000):\n",
    "        signups = get_signups(avg_impressions,ctr,str_)\n",
    "        rev = get_revenue(signups,pur_rate,avg_tkt_size,std_dev_tkt)\n",
    "        rev_tot.append(rev)\n",
    "    rev_tot = np.array(rev_tot)\n",
    "    \n",
    "    plt.hist(rev_tot)\n",
    "    plt.show()\n",
    "    print(\"Median revenue is \",np.median(rev_tot))"
   ]
  },
  {
   "cell_type": "code",
   "execution_count": null,
   "id": "e0aa9b02-a80d-42c3-9f14-2f6f821ecdde",
   "metadata": {},
   "outputs": [],
   "source": []
  }
 ],
 "metadata": {
  "kernelspec": {
   "display_name": "Python 3 (ipykernel)",
   "language": "python",
   "name": "python3"
  },
  "language_info": {
   "codemirror_mode": {
    "name": "ipython",
    "version": 3
   },
   "file_extension": ".py",
   "mimetype": "text/x-python",
   "name": "python",
   "nbconvert_exporter": "python",
   "pygments_lexer": "ipython3",
   "version": "3.11.5"
  }
 },
 "nbformat": 4,
 "nbformat_minor": 5
}
