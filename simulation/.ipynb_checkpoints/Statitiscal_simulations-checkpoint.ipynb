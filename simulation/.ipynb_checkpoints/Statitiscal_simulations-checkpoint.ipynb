{
 "cells": [
  {
   "cell_type": "code",
   "execution_count": 81,
   "id": "de0df6d9-b939-434a-b697-145bf579f788",
   "metadata": {},
   "outputs": [],
   "source": [
    "import pandas as pd\n",
    "import numpy as np"
   ]
  },
  {
   "cell_type": "markdown",
   "id": "670b1608-8ee4-4215-9840-05586e211577",
   "metadata": {},
   "source": [
    "> **Probability Distribution** Is a mapping of a set of outcomes to the probability of those outomes. For **continous random variables** the probability distribution is a **probability density function**. The density function works only over an interval. For **discrete random variables** we have a probability mass function that can be described both over a point and an interval"
   ]
  },
  {
   "cell_type": "code",
   "execution_count": 82,
   "id": "6d0b47f0-3b47-477b-90c7-bd67d2750bf5",
   "metadata": {},
   "outputs": [
    {
     "name": "stdout",
     "output_type": "stream",
     "text": [
      "Help on built-in function choice:\n",
      "\n",
      "choice(...) method of numpy.random.mtrand.RandomState instance\n",
      "    choice(a, size=None, replace=True, p=None)\n",
      "    \n",
      "    Generates a random sample from a given 1-D array\n",
      "    \n",
      "    .. versionadded:: 1.7.0\n",
      "    \n",
      "    .. note::\n",
      "        New code should use the `~numpy.random.Generator.choice`\n",
      "        method of a `~numpy.random.Generator` instance instead;\n",
      "        please see the :ref:`random-quick-start`.\n",
      "    \n",
      "    Parameters\n",
      "    ----------\n",
      "    a : 1-D array-like or int\n",
      "        If an ndarray, a random sample is generated from its elements.\n",
      "        If an int, the random sample is generated as if it were ``np.arange(a)``\n",
      "    size : int or tuple of ints, optional\n",
      "        Output shape.  If the given shape is, e.g., ``(m, n, k)``, then\n",
      "        ``m * n * k`` samples are drawn.  Default is None, in which case a\n",
      "        single value is returned.\n",
      "    replace : boolean, optional\n",
      "        Whether the sample is with or without replacement. Default is True,\n",
      "        meaning that a value of ``a`` can be selected multiple times.\n",
      "    p : 1-D array-like, optional\n",
      "        The probabilities associated with each entry in a.\n",
      "        If not given, the sample assumes a uniform distribution over all\n",
      "        entries in ``a``.\n",
      "    \n",
      "    Returns\n",
      "    -------\n",
      "    samples : single item or ndarray\n",
      "        The generated random samples\n",
      "    \n",
      "    Raises\n",
      "    ------\n",
      "    ValueError\n",
      "        If a is an int and less than zero, if a or p are not 1-dimensional,\n",
      "        if a is an array-like of size 0, if p is not a vector of\n",
      "        probabilities, if a and p have different lengths, or if\n",
      "        replace=False and the sample size is greater than the population\n",
      "        size\n",
      "    \n",
      "    See Also\n",
      "    --------\n",
      "    randint, shuffle, permutation\n",
      "    random.Generator.choice: which should be used in new code\n",
      "    \n",
      "    Notes\n",
      "    -----\n",
      "    Setting user-specified probabilities through ``p`` uses a more general but less\n",
      "    efficient sampler than the default. The general sampler produces a different sample\n",
      "    than the optimized sampler even if each element of ``p`` is 1 / len(a).\n",
      "    \n",
      "    Sampling random rows from a 2-D array is not possible with this function,\n",
      "    but is possible with `Generator.choice` through its ``axis`` keyword.\n",
      "    \n",
      "    Examples\n",
      "    --------\n",
      "    Generate a uniform random sample from np.arange(5) of size 3:\n",
      "    \n",
      "    >>> np.random.choice(5, 3)\n",
      "    array([0, 3, 4]) # random\n",
      "    >>> #This is equivalent to np.random.randint(0,5,3)\n",
      "    \n",
      "    Generate a non-uniform random sample from np.arange(5) of size 3:\n",
      "    \n",
      "    >>> np.random.choice(5, 3, p=[0.1, 0, 0.3, 0.6, 0])\n",
      "    array([3, 3, 0]) # random\n",
      "    \n",
      "    Generate a uniform random sample from np.arange(5) of size 3 without\n",
      "    replacement:\n",
      "    \n",
      "    >>> np.random.choice(5, 3, replace=False)\n",
      "    array([3,1,0]) # random\n",
      "    >>> #This is equivalent to np.random.permutation(np.arange(5))[:3]\n",
      "    \n",
      "    Generate a non-uniform random sample from np.arange(5) of size\n",
      "    3 without replacement:\n",
      "    \n",
      "    >>> np.random.choice(5, 3, replace=False, p=[0.1, 0, 0.3, 0.6, 0])\n",
      "    array([2, 3, 0]) # random\n",
      "    \n",
      "    Any of the above can be repeated with an arbitrary array-like\n",
      "    instead of just integers. For instance:\n",
      "    \n",
      "    >>> aa_milne_arr = ['pooh', 'rabbit', 'piglet', 'Christopher']\n",
      "    >>> np.random.choice(aa_milne_arr, 5, p=[0.5, 0.1, 0.1, 0.3])\n",
      "    array(['pooh', 'pooh', 'pooh', 'Christopher', 'piglet'], # random\n",
      "          dtype='<U11')\n",
      "\n"
     ]
    }
   ],
   "source": [
    "help(np.random.choice)\n"
   ]
  },
  {
   "cell_type": "code",
   "execution_count": 83,
   "id": "1813f8da-2ff6-4c0b-b608-60a94138ee78",
   "metadata": {},
   "outputs": [],
   "source": [
    "sample_1=np.random.poisson(2,5)\n",
    "sample_2 = np.random.poisson(2,1000)\n",
    "sample_3 = np.random.poisson(2,10000)"
   ]
  },
  {
   "cell_type": "code",
   "execution_count": 84,
   "id": "05367240-8545-42dc-b834-5013dd00771e",
   "metadata": {},
   "outputs": [
    {
     "name": "stdout",
     "output_type": "stream",
     "text": [
      "2.4\n",
      "1.945\n",
      "1.9968\n"
     ]
    }
   ],
   "source": [
    "print(np.mean(sample_1))\n",
    "print(np.mean(sample_2))\n",
    "print(np.mean(sample_3))"
   ]
  },
  {
   "cell_type": "markdown",
   "id": "9c5c1ec6-bf0b-4605-9879-b687085faf58",
   "metadata": {},
   "source": [
    "> **Simulation** is characterized by repeated random sampling. We do repeated random sampling of our variables. Simulations are great at getting approximate solutions.\n",
    "> * Define the random variables to be used in the simulation\n",
    "> * Define possible set of outcomes for the random variables\n",
    "> * Define probability distributions for the random variables\n",
    "> * Define relation ships between the random variables (define objective)\n",
    "> * Draw samples from the probability distributions\n",
    "> * calculate outomes"
   ]
  },
  {
   "cell_type": "code",
   "execution_count": 85,
   "id": "a63b8808-f859-4a60-8572-f2d8693a69ab",
   "metadata": {},
   "outputs": [],
   "source": [
    "die = [1,2,3,4,5,6]\n",
    "probabilities = [1/6,1/6,1/6,1/6,1/6,1/6]\n",
    "throws = 2"
   ]
  },
  {
   "cell_type": "code",
   "execution_count": 86,
   "id": "5be95894-98fc-4a4f-bfb7-dbf923cc16dc",
   "metadata": {},
   "outputs": [],
   "source": [
    "wins,sims = 0,1000\n",
    "\n",
    "for i in range(sims):\n",
    "    outcomes = np.random.choice(die,size=throws,p=probabilities)\n",
    "    if outcomes[0] == outcomes[1]:\n",
    "        wins = wins+1\n",
    "    else: continue"
   ]
  },
  {
   "cell_type": "code",
   "execution_count": 87,
   "id": "ea55f89e-19b0-45d1-80af-bd1df674d727",
   "metadata": {},
   "outputs": [
    {
     "name": "stdout",
     "output_type": "stream",
     "text": [
      "176 wins in 1000 sims\n"
     ]
    }
   ],
   "source": [
    "print(\"{} wins in {} sims\".format(wins,sims))"
   ]
  },
  {
   "cell_type": "code",
   "execution_count": 88,
   "id": "b8680de0-01ba-4e4b-a04b-014939f53c70",
   "metadata": {},
   "outputs": [],
   "source": [
    "lottery_cost, win = 0,10000\n",
    "expected_val = [lottery_cost,win+lottery_cost]\n",
    "probs = [(1-(1/10000)),1/10000]"
   ]
  },
  {
   "cell_type": "code",
   "execution_count": 89,
   "id": "367a4315-b64c-4f5f-8397-015bad32dff3",
   "metadata": {},
   "outputs": [
    {
     "data": {
      "text/plain": [
       "0.0"
      ]
     },
     "execution_count": 89,
     "metadata": {},
     "output_type": "execute_result"
    }
   ],
   "source": [
    "trial=np.random.choice(a=expected_val,p=probs,size=2000)\n",
    "trial.mean()"
   ]
  },
  {
   "cell_type": "code",
   "execution_count": 114,
   "id": "de0c415b-6b14-4b7a-a948-80ebdb4a28c7",
   "metadata": {},
   "outputs": [
    {
     "name": "stdout",
     "output_type": "stream",
     "text": [
      "0 100000\n",
      "[0, 100000]\n",
      "[0.999, 0.001]\n"
     ]
    }
   ],
   "source": [
    "lottery_cost, win = 0,100000\n",
    "expected_val = [-lottery_cost,win-lottery_cost]\n",
    "chance_of_winning = 1/1000\n",
    "probs = [1-chance_of_winning,chance_of_winning]\n",
    "print(lottery_cost,win)\n",
    "print(expected_val)\n",
    "print(probs)"
   ]
  },
  {
   "cell_type": "code",
   "execution_count": 117,
   "id": "fc1d11ce-11f3-4b3c-a2db-03987fed8c95",
   "metadata": {},
   "outputs": [
    {
     "name": "stdout",
     "output_type": "stream",
     "text": [
      "16\n"
     ]
    }
   ],
   "source": [
    "while 1:\n",
    "    outcomes = np.random.choice([-lottery_cost, win-lottery_cost],\n",
    "                 size=2000, p=[1-chance_of_winning, chance_of_winning], replace=True)\n",
    "    if outcomes.mean() < 0:\n",
    "        break\n",
    "    else:\n",
    "        lottery_cost += 1\n",
    "answer = lottery_cost - 1\n",
    "print(answer)"
   ]
  },
  {
   "cell_type": "code",
   "execution_count": 110,
   "id": "5d0363e0-c5e5-466a-877e-79754325236d",
   "metadata": {},
   "outputs": [
    {
     "name": "stdout",
     "output_type": "stream",
     "text": [
      "The highest price at which it makes sense to buy the ticket is 35\n"
     ]
    }
   ],
   "source": [
    "# Initialize simulations and cost of ticket\n",
    "sims, lottery_ticket_cost = 3000, 0\n",
    "grand_prize = 100000\n",
    "chance_of_winning = 1/1000\n",
    "# Use a while loop to increment `lottery_ticket_cost` till average value of outcomes falls below zero\n",
    "while 1:\n",
    "    outcomes = np.random.choice([-lottery_ticket_cost, grand_prize-lottery_ticket_cost],\n",
    "                 size=sims, p=[1-chance_of_winning, chance_of_winning], replace=True)\n",
    "    if outcomes.mean() < 0:\n",
    "        break\n",
    "    else:\n",
    "        lottery_ticket_cost += 1\n",
    "answer = lottery_ticket_cost - 1\n",
    "\n",
    "print(\"The highest price at which it makes sense to buy the ticket is {}\".format(answer))"
   ]
  },
  {
   "cell_type": "code",
   "execution_count": null,
   "id": "e1b1f293-a6f2-4cff-8bb1-3c4e7e1a8666",
   "metadata": {},
   "outputs": [],
   "source": []
  }
 ],
 "metadata": {
  "kernelspec": {
   "display_name": "Python 3 (ipykernel)",
   "language": "python",
   "name": "python3"
  },
  "language_info": {
   "codemirror_mode": {
    "name": "ipython",
    "version": 3
   },
   "file_extension": ".py",
   "mimetype": "text/x-python",
   "name": "python",
   "nbconvert_exporter": "python",
   "pygments_lexer": "ipython3",
   "version": "3.10.14"
  }
 },
 "nbformat": 4,
 "nbformat_minor": 5
}
