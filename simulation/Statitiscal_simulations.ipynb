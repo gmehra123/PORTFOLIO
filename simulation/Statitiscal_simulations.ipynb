{
 "cells": [
  {
   "cell_type": "code",
   "execution_count": 2,
   "id": "de0df6d9-b939-434a-b697-145bf579f788",
   "metadata": {},
   "outputs": [],
   "source": [
    "import pandas as pd\n",
    "import numpy as np"
   ]
  },
  {
   "cell_type": "markdown",
   "id": "670b1608-8ee4-4215-9840-05586e211577",
   "metadata": {},
   "source": [
    "> **Probability Distribution** Is a mapping of a set of outcomes to the probability of those outomes. For **continous random variables** the probability distribution is a **probability density function**. The density function works only over an interval. For **discrete random variables** we have a probability mass function that can be described both over a point and an interval"
   ]
  },
  {
   "cell_type": "code",
   "execution_count": 82,
   "id": "6d0b47f0-3b47-477b-90c7-bd67d2750bf5",
   "metadata": {},
   "outputs": [
    {
     "name": "stdout",
     "output_type": "stream",
     "text": [
      "Help on built-in function choice:\n",
      "\n",
      "choice(...) method of numpy.random.mtrand.RandomState instance\n",
      "    choice(a, size=None, replace=True, p=None)\n",
      "    \n",
      "    Generates a random sample from a given 1-D array\n",
      "    \n",
      "    .. versionadded:: 1.7.0\n",
      "    \n",
      "    .. note::\n",
      "        New code should use the `~numpy.random.Generator.choice`\n",
      "        method of a `~numpy.random.Generator` instance instead;\n",
      "        please see the :ref:`random-quick-start`.\n",
      "    \n",
      "    Parameters\n",
      "    ----------\n",
      "    a : 1-D array-like or int\n",
      "        If an ndarray, a random sample is generated from its elements.\n",
      "        If an int, the random sample is generated as if it were ``np.arange(a)``\n",
      "    size : int or tuple of ints, optional\n",
      "        Output shape.  If the given shape is, e.g., ``(m, n, k)``, then\n",
      "        ``m * n * k`` samples are drawn.  Default is None, in which case a\n",
      "        single value is returned.\n",
      "    replace : boolean, optional\n",
      "        Whether the sample is with or without replacement. Default is True,\n",
      "        meaning that a value of ``a`` can be selected multiple times.\n",
      "    p : 1-D array-like, optional\n",
      "        The probabilities associated with each entry in a.\n",
      "        If not given, the sample assumes a uniform distribution over all\n",
      "        entries in ``a``.\n",
      "    \n",
      "    Returns\n",
      "    -------\n",
      "    samples : single item or ndarray\n",
      "        The generated random samples\n",
      "    \n",
      "    Raises\n",
      "    ------\n",
      "    ValueError\n",
      "        If a is an int and less than zero, if a or p are not 1-dimensional,\n",
      "        if a is an array-like of size 0, if p is not a vector of\n",
      "        probabilities, if a and p have different lengths, or if\n",
      "        replace=False and the sample size is greater than the population\n",
      "        size\n",
      "    \n",
      "    See Also\n",
      "    --------\n",
      "    randint, shuffle, permutation\n",
      "    random.Generator.choice: which should be used in new code\n",
      "    \n",
      "    Notes\n",
      "    -----\n",
      "    Setting user-specified probabilities through ``p`` uses a more general but less\n",
      "    efficient sampler than the default. The general sampler produces a different sample\n",
      "    than the optimized sampler even if each element of ``p`` is 1 / len(a).\n",
      "    \n",
      "    Sampling random rows from a 2-D array is not possible with this function,\n",
      "    but is possible with `Generator.choice` through its ``axis`` keyword.\n",
      "    \n",
      "    Examples\n",
      "    --------\n",
      "    Generate a uniform random sample from np.arange(5) of size 3:\n",
      "    \n",
      "    >>> np.random.choice(5, 3)\n",
      "    array([0, 3, 4]) # random\n",
      "    >>> #This is equivalent to np.random.randint(0,5,3)\n",
      "    \n",
      "    Generate a non-uniform random sample from np.arange(5) of size 3:\n",
      "    \n",
      "    >>> np.random.choice(5, 3, p=[0.1, 0, 0.3, 0.6, 0])\n",
      "    array([3, 3, 0]) # random\n",
      "    \n",
      "    Generate a uniform random sample from np.arange(5) of size 3 without\n",
      "    replacement:\n",
      "    \n",
      "    >>> np.random.choice(5, 3, replace=False)\n",
      "    array([3,1,0]) # random\n",
      "    >>> #This is equivalent to np.random.permutation(np.arange(5))[:3]\n",
      "    \n",
      "    Generate a non-uniform random sample from np.arange(5) of size\n",
      "    3 without replacement:\n",
      "    \n",
      "    >>> np.random.choice(5, 3, replace=False, p=[0.1, 0, 0.3, 0.6, 0])\n",
      "    array([2, 3, 0]) # random\n",
      "    \n",
      "    Any of the above can be repeated with an arbitrary array-like\n",
      "    instead of just integers. For instance:\n",
      "    \n",
      "    >>> aa_milne_arr = ['pooh', 'rabbit', 'piglet', 'Christopher']\n",
      "    >>> np.random.choice(aa_milne_arr, 5, p=[0.5, 0.1, 0.1, 0.3])\n",
      "    array(['pooh', 'pooh', 'pooh', 'Christopher', 'piglet'], # random\n",
      "          dtype='<U11')\n",
      "\n"
     ]
    }
   ],
   "source": [
    "help(np.random.choice)\n"
   ]
  },
  {
   "cell_type": "code",
   "execution_count": 83,
   "id": "1813f8da-2ff6-4c0b-b608-60a94138ee78",
   "metadata": {},
   "outputs": [],
   "source": [
    "sample_1=np.random.poisson(2,5)\n",
    "sample_2 = np.random.poisson(2,1000)\n",
    "sample_3 = np.random.poisson(2,10000)"
   ]
  },
  {
   "cell_type": "code",
   "execution_count": 84,
   "id": "05367240-8545-42dc-b834-5013dd00771e",
   "metadata": {},
   "outputs": [
    {
     "name": "stdout",
     "output_type": "stream",
     "text": [
      "2.4\n",
      "1.945\n",
      "1.9968\n"
     ]
    }
   ],
   "source": [
    "print(np.mean(sample_1))\n",
    "print(np.mean(sample_2))\n",
    "print(np.mean(sample_3))"
   ]
  },
  {
   "cell_type": "markdown",
   "id": "9c5c1ec6-bf0b-4605-9879-b687085faf58",
   "metadata": {},
   "source": [
    "> **Simulation** is characterized by repeated random sampling. We do repeated random sampling of our variables. Simulations are great at getting approximate solutions.\n",
    "> * Define the random variables to be used in the simulation\n",
    "> * Define possible set of outcomes for the random variables\n",
    "> * Define probability distributions for the random variables\n",
    "> * Define relation ships between the random variables (define objective)\n",
    "> * Draw samples from the probability distributions\n",
    "> * calculate outomes"
   ]
  },
  {
   "cell_type": "code",
   "execution_count": 85,
   "id": "a63b8808-f859-4a60-8572-f2d8693a69ab",
   "metadata": {},
   "outputs": [],
   "source": [
    "die = [1,2,3,4,5,6]\n",
    "probabilities = [1/6,1/6,1/6,1/6,1/6,1/6]\n",
    "throws = 2"
   ]
  },
  {
   "cell_type": "code",
   "execution_count": 86,
   "id": "5be95894-98fc-4a4f-bfb7-dbf923cc16dc",
   "metadata": {},
   "outputs": [],
   "source": [
    "wins,sims = 0,1000\n",
    "\n",
    "for i in range(sims):\n",
    "    outcomes = np.random.choice(die,size=throws,p=probabilities)\n",
    "    if outcomes[0] == outcomes[1]:\n",
    "        wins = wins+1\n",
    "    else: continue"
   ]
  },
  {
   "cell_type": "code",
   "execution_count": 87,
   "id": "ea55f89e-19b0-45d1-80af-bd1df674d727",
   "metadata": {},
   "outputs": [
    {
     "name": "stdout",
     "output_type": "stream",
     "text": [
      "176 wins in 1000 sims\n"
     ]
    }
   ],
   "source": [
    "print(\"{} wins in {} sims\".format(wins,sims))"
   ]
  },
  {
   "cell_type": "code",
   "execution_count": 88,
   "id": "b8680de0-01ba-4e4b-a04b-014939f53c70",
   "metadata": {},
   "outputs": [],
   "source": [
    "lottery_cost, win = 0,10000\n",
    "expected_val = [lottery_cost,win+lottery_cost]\n",
    "probs = [(1-(1/10000)),1/10000]"
   ]
  },
  {
   "cell_type": "code",
   "execution_count": 89,
   "id": "367a4315-b64c-4f5f-8397-015bad32dff3",
   "metadata": {},
   "outputs": [
    {
     "data": {
      "text/plain": [
       "0.0"
      ]
     },
     "execution_count": 89,
     "metadata": {},
     "output_type": "execute_result"
    }
   ],
   "source": [
    "trial=np.random.choice(a=expected_val,p=probs,size=2000)\n",
    "trial.mean()"
   ]
  },
  {
   "cell_type": "code",
   "execution_count": 114,
   "id": "de0c415b-6b14-4b7a-a948-80ebdb4a28c7",
   "metadata": {},
   "outputs": [
    {
     "name": "stdout",
     "output_type": "stream",
     "text": [
      "0 100000\n",
      "[0, 100000]\n",
      "[0.999, 0.001]\n"
     ]
    }
   ],
   "source": [
    "lottery_cost, win = 0,100000\n",
    "expected_val = [-lottery_cost,win-lottery_cost]\n",
    "chance_of_winning = 1/1000\n",
    "probs = [1-chance_of_winning,chance_of_winning]\n",
    "print(lottery_cost,win)\n",
    "print(expected_val)\n",
    "print(probs)"
   ]
  },
  {
   "cell_type": "code",
   "execution_count": 117,
   "id": "fc1d11ce-11f3-4b3c-a2db-03987fed8c95",
   "metadata": {},
   "outputs": [
    {
     "name": "stdout",
     "output_type": "stream",
     "text": [
      "16\n"
     ]
    }
   ],
   "source": [
    "while 1:\n",
    "    outcomes = np.random.choice([-lottery_cost, win-lottery_cost],\n",
    "                 size=2000, p=[1-chance_of_winning, chance_of_winning], replace=True)\n",
    "    if outcomes.mean() < 0:\n",
    "        break\n",
    "    else:\n",
    "        lottery_cost += 1\n",
    "answer = lottery_cost - 1\n",
    "print(answer)"
   ]
  },
  {
   "cell_type": "code",
   "execution_count": 110,
   "id": "5d0363e0-c5e5-466a-877e-79754325236d",
   "metadata": {},
   "outputs": [
    {
     "name": "stdout",
     "output_type": "stream",
     "text": [
      "The highest price at which it makes sense to buy the ticket is 35\n"
     ]
    }
   ],
   "source": [
    "# Initialize simulations and cost of ticket\n",
    "sims, lottery_ticket_cost = 3000, 0\n",
    "grand_prize = 100000\n",
    "chance_of_winning = 1/1000\n",
    "# Use a while loop to increment `lottery_ticket_cost` till average value of outcomes falls below zero\n",
    "while 1:\n",
    "    outcomes = np.random.choice([-lottery_ticket_cost, grand_prize-lottery_ticket_cost],\n",
    "                 size=sims, p=[1-chance_of_winning, chance_of_winning], replace=True)\n",
    "    if outcomes.mean() < 0:\n",
    "        break\n",
    "    else:\n",
    "        lottery_ticket_cost += 1\n",
    "answer = lottery_ticket_cost - 1\n",
    "\n",
    "print(\"The highest price at which it makes sense to buy the ticket is {}\".format(answer))"
   ]
  },
  {
   "cell_type": "markdown",
   "id": "409a537d-4770-463a-90a1-246a851261b4",
   "metadata": {},
   "source": [
    "> **Sample space** is a set of all possible outcomes.\n",
    "> **Probability** is the liklihood of an event in a sample space occuring\n",
    "> The total probability of a sample space is 1\n",
    "> * <p> <b>Mutually Exclusive Events</b> cannot occur together P(A intersection B) = 0 \n",
    "P(A U B)= P(A) + P(B)</p>\n",
    "> * <p>P(A U B) = P(A) + P(B) - P(A intersection B) </p>\n",
    "> <b>Process to run simulation</b>\n",
    "> * Construct a sample space with all possible outcomes\n",
    "> * Determine how to simulate outcome\n",
    "> * Determine rule for success\n",
    "> * Sample repeatedly and count succeses\n",
    "> * Calculate frequency of success"
   ]
  },
  {
   "cell_type": "code",
   "execution_count": 4,
   "id": "8e22ba24-005d-48f0-bba0-794b0f06d7df",
   "metadata": {},
   "outputs": [],
   "source": [
    "deck_of_cards = [('Heart', 0),\n",
    " ('Heart', 1),\n",
    " ('Heart', 2),\n",
    " ('Heart', 3),\n",
    " ('Heart', 4),\n",
    " ('Heart', 5),\n",
    " ('Heart', 6),\n",
    " ('Heart', 7),\n",
    " ('Heart', 8),\n",
    " ('Heart', 9),\n",
    " ('Heart', 10),\n",
    " ('Heart', 11),\n",
    " ('Heart', 12),\n",
    " ('Club', 0),\n",
    " ('Club', 1),\n",
    " ('Club', 2),\n",
    " ('Club', 3),\n",
    " ('Club', 4),\n",
    " ('Club', 5),\n",
    " ('Club', 6),\n",
    " ('Club', 7),\n",
    " ('Club', 8),\n",
    " ('Club', 9),\n",
    " ('Club', 10),\n",
    " ('Club', 11),\n",
    " ('Club', 12),\n",
    " ('Spade', 0),\n",
    " ('Spade', 1),\n",
    " ('Spade', 2),\n",
    " ('Spade', 3),\n",
    " ('Spade', 4),\n",
    " ('Spade', 5),\n",
    " ('Spade', 6),\n",
    " ('Spade', 7),\n",
    " ('Spade', 8),\n",
    " ('Spade', 9),\n",
    " ('Spade', 10),\n",
    " ('Spade', 11),\n",
    " ('Spade', 12),\n",
    " ('Diamond', 0),\n",
    " ('Diamond', 1),\n",
    " ('Diamond', 2),\n",
    " ('Diamond', 3),\n",
    " ('Diamond', 4),\n",
    " ('Diamond', 5),\n",
    " ('Diamond', 6),\n",
    " ('Diamond', 7),\n",
    " ('Diamond', 8),\n",
    " ('Diamond', 9),\n",
    " ('Diamond', 10),\n",
    " ('Diamond', 11),\n",
    " ('Diamond', 12)]"
   ]
  },
  {
   "cell_type": "code",
   "execution_count": 16,
   "id": "41bd1d71-5f45-4f51-a444-7ffb985f4d9c",
   "metadata": {},
   "outputs": [],
   "source": [
    "# Shuffle deck & count card occurrences in the hand\n",
    "n_sims, two_kind = 100, 0\n",
    "for i in range(n_sims):\n",
    "    np.random.shuffle(deck_of_cards)\n",
    "    hand, cards_in_hand = deck_of_cards[0:5], {}\n",
    "    for suite, numeric_value in hand:\n",
    "        # Count occurrences of each numeric value\n",
    "        cards_in_hand[numeric_value] = cards_in_hand.get(numeric_value, 0) + 1\n",
    "        if max(cards_in_hand.values()) >=2: \n",
    "            two_kind += 1"
   ]
  },
  {
   "cell_type": "code",
   "execution_count": 17,
   "id": "4dd736e8-33c6-4c45-a87d-8a37a1f581a3",
   "metadata": {},
   "outputs": [
    {
     "data": {
      "text/plain": [
       "2"
      ]
     },
     "execution_count": 17,
     "metadata": {},
     "output_type": "execute_result"
    }
   ],
   "source": [
    "max(cards_in_hand.values())"
   ]
  },
  {
   "cell_type": "code",
   "execution_count": 18,
   "id": "0b0ef633-f227-4908-ae75-1a94600006db",
   "metadata": {},
   "outputs": [
    {
     "data": {
      "text/plain": [
       "105"
      ]
     },
     "execution_count": 18,
     "metadata": {},
     "output_type": "execute_result"
    }
   ],
   "source": [
    "two_kind"
   ]
  },
  {
   "cell_type": "markdown",
   "id": "415974ff-3a04-416f-8df6-de66e990e492",
   "metadata": {},
   "source": [
    "Simulating a driving test"
   ]
  },
  {
   "cell_type": "code",
   "execution_count": 22,
   "id": "46b8ec5f-98ba-4100-a6dd-cb79b9f086e2",
   "metadata": {},
   "outputs": [],
   "source": [
    "sims,outcomes,p_rain,p_pass = 100,[],0.40,{'sun':0.9,'rain':0.3}\n",
    "def test_1(p_rain):\n",
    "    weather = np.random.choice(['rain','sun'],p=[p_rain,1-p_rain])\n",
    "    result = np.random.choice(['pass','fail'],p=[p_pass[weather],1-p_pass[weather]])\n",
    "    return result"
   ]
  },
  {
   "cell_type": "code",
   "execution_count": 26,
   "id": "47f187d9-0991-4f80-b27b-6a3ae95e8d50",
   "metadata": {},
   "outputs": [],
   "source": [
    "for _ in range(sims):\n",
    "    outcomes.append(test_1(0.3))"
   ]
  },
  {
   "cell_type": "code",
   "execution_count": 29,
   "id": "ae1bfa02-3126-4562-8360-7c1da45e6c60",
   "metadata": {},
   "outputs": [
    {
     "data": {
      "text/plain": [
       "82"
      ]
     },
     "execution_count": 29,
     "metadata": {},
     "output_type": "execute_result"
    }
   ],
   "source": [
    "outcomes.count('pass')"
   ]
  },
  {
   "cell_type": "code",
   "execution_count": 30,
   "id": "a1b07a35-e4cc-4344-9b60-ac40ac297484",
   "metadata": {},
   "outputs": [],
   "source": [
    "outcomes =[[1,1,1],[0,1,0]]"
   ]
  },
  {
   "cell_type": "code",
   "execution_count": 31,
   "id": "ad8a58c5-c5d1-4beb-b5ab-d89fb32b6490",
   "metadata": {},
   "outputs": [
    {
     "data": {
      "text/plain": [
       "[3, 1]"
      ]
     },
     "execution_count": 31,
     "metadata": {},
     "output_type": "execute_result"
    }
   ],
   "source": [
    "[sum(n) for n in outcomes]"
   ]
  },
  {
   "cell_type": "code",
   "execution_count": 60,
   "id": "57b59952-b622-4777-ab83-481475defc94",
   "metadata": {},
   "outputs": [],
   "source": [
    "# Simulate steps & choose prob \n",
    "sims = 1000\n",
    "days =30\n",
    "outcomes =[]\n",
    "for _ in range(sims):\n",
    "    w = []\n",
    "    for day in range(days):\n",
    "        lam = np.random.choice([5000,10000,15000],p=[0.3,0.6,0.1])\n",
    "        steps = np.random.poisson(lam)\n",
    "        if steps<8000:\n",
    "            p = [0.2,0.8]\n",
    "        elif (steps>8000)&(steps<=10000):\n",
    "            p = [0.3,0.7]\n",
    "        elif (steps>10000):\n",
    "            p =[0.8,0.2]\n",
    "        outcome_day = np.random.choice([-1,1],p=p)\n",
    "        w.append(outcome_day)\n",
    "    outcomes.append(sum(w))\n",
    "prob= sum([(x<0) for x in outcomes]) / len(outcomes)\n"
   ]
  },
  {
   "cell_type": "code",
   "execution_count": 61,
   "id": "b909dde0-3c36-40e8-bf88-34de84344ace",
   "metadata": {},
   "outputs": [
    {
     "name": "stdout",
     "output_type": "stream",
     "text": [
      "0.305\n"
     ]
    }
   ],
   "source": [
    "print(prob)"
   ]
  },
  {
   "cell_type": "code",
   "execution_count": null,
   "id": "fe1ad659-9da1-4d65-9f98-0cb3d1413904",
   "metadata": {},
   "outputs": [],
   "source": [
    "np.random.exponential()"
   ]
  },
  {
   "cell_type": "code",
   "execution_count": null,
   "id": "335f5321-edb8-45f8-8a3c-8598f7d5dcde",
   "metadata": {},
   "outputs": [],
   "source": []
  },
  {
   "cell_type": "code",
   "execution_count": null,
   "id": "1f55db0c-c3ab-4f8f-9380-8dabd44d2a08",
   "metadata": {},
   "outputs": [],
   "source": []
  }
 ],
 "metadata": {
  "kernelspec": {
   "display_name": "Python 3 (ipykernel)",
   "language": "python",
   "name": "python3"
  },
  "language_info": {
   "codemirror_mode": {
    "name": "ipython",
    "version": 3
   },
   "file_extension": ".py",
   "mimetype": "text/x-python",
   "name": "python",
   "nbconvert_exporter": "python",
   "pygments_lexer": "ipython3",
   "version": "3.11.5"
  }
 },
 "nbformat": 4,
 "nbformat_minor": 5
}
